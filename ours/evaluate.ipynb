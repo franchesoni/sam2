{
 "cells": [
  {
   "cell_type": "code",
   "execution_count": 1,
   "metadata": {},
   "outputs": [],
   "source": [
    "from PIL import Image\n",
    "import matplotlib.pyplot as plt\n",
    "import numpy as np\n",
    "from pathlib import Path\n",
    "import skimage"
   ]
  },
  {
   "cell_type": "code",
   "execution_count": 2,
   "metadata": {},
   "outputs": [
    {
     "name": "stdout",
     "output_type": "stream",
     "text": [
      "loading gt\n",
      "loading logits\n",
      "loading superpixels\n"
     ]
    }
   ],
   "source": [
    "print('loading gt')\n",
    "gt = skimage.measure.label(np.array(Image.open(Path('images/texmos2.s512.tiff')).convert('L')), background=-1, connectivity=1)\n",
    "print('loading logits')\n",
    "logits = np.load('tmp/c1logits.npy')\n",
    "print('loading superpixels')\n",
    "superpixels = np.load('tmp/superpixels.npy')\n",
    "rsuperpixels = np.array(Image.fromarray(superpixels.astype(np.uint16)).resize(gt.shape[::-1], Image.Resampling.NEAREST))"
   ]
  },
  {
   "cell_type": "code",
   "execution_count": null,
   "metadata": {},
   "outputs": [
    {
     "data": {
      "text/plain": [
       "<matplotlib.image.AxesImage at 0x7f86d02251d0>"
      ]
     },
     "execution_count": 14,
     "metadata": {},
     "output_type": "execute_result"
    },
    {
     "data": {
      "image/png": "[encoded data removed]",
      "text/plain": [
       "<Figure size 640x480 with 1 Axes>"
      ]
     },
     "metadata": {},
     "output_type": "display_data"
    }
   ],
   "source": [
    "plt.figure()\n",
    "plt.imshow(gt)"
   ]
  },
  {
   "cell_type": "markdown",
   "metadata": {},
   "source": [
    "## compute upper bound of superpixel merging performance"
   ]
  },
  {
   "cell_type": "code",
   "execution_count": null,
   "metadata": {},
   "outputs": [
    {
     "name": "stdout",
     "output_type": "stream",
     "text": [
      "mean iou: 0.82872058885878264025974036\n"
     ]
    }
   ],
   "source": [
    "ious = []\n",
    "unique_superpixels = np.unique(rsuperpixels)\n",
    "for gt_label in np.unique(gt):\n",
    "    gt_mask = (gt == gt_label)  # ground truth mask\n",
    "    gt_mask_size = np.sum(gt_mask)\n",
    "    scores = []\n",
    "    for sp_label in unique_superpixels:\n",
    "        sp_mask = (rsuperpixels == sp_label)  # superpixel mask\n",
    "        intersection = np.logical_and(gt_mask, sp_mask)\n",
    "        inside = np.sum(intersection)\n",
    "        outside = np.sum(sp_mask) - inside\n",
    "        if outside == 0:\n",
    "            scores.append(np.inf)\n",
    "        else:\n",
    "            scores.append(inside / outside)\n",
    "\n",
    "    # argsort scores\n",
    "    sorted_indices = reversed(np.argsort(scores, stable=True))\n",
    "    mask_so_far = np.zeros_like(gt_mask)\n",
    "    current_iou = 0\n",
    "    for next_best_ind in sorted_indices:\n",
    "        if scores[next_best_ind] < current_iou:\n",
    "            break\n",
    "        sp_label = unique_superpixels[next_best_ind]\n",
    "        sp_mask = (rsuperpixels == sp_label)\n",
    "        mask_so_far = np.logical_or(mask_so_far, sp_mask)\n",
    "        intersection = np.logical_and(mask_so_far, gt_mask)\n",
    "        union = np.logical_or(mask_so_far, gt_mask)\n",
    "        current_iou = np.sum(intersection) / np.sum(union)\n",
    "    ious.append(current_iou)\n",
    "    print('gt label:', gt_label, 'iou:', current_iou, end='\\r')\n",
    "print('mean iou:', np.mean(ious))\n",
    "# mean iou: 0.82872058885878264025974036\n"
   ]
  },
  {
   "cell_type": "markdown",
   "metadata": {},
   "source": [
    "## compute sam2 performance without filtering any logit map"
   ]
  },
  {
   "cell_type": "code",
   "execution_count": null,
   "metadata": {},
   "outputs": [
    {
     "name": "stdout",
     "output_type": "stream",
     "text": [
      "mean iou: 0.7757326059054758940298507436\n"
     ]
    }
   ],
   "source": [
    "sam2_ious = []\n",
    "for gt_label in np.unique(gt):\n",
    "    gt_mask = (gt == gt_label)  # ground truth mask\n",
    "    best_iou = 0\n",
    "    for logit_channel in range(len(logits)):\n",
    "        resized_logit = skimage.transform.resize(logits[logit_channel], gt.shape, order=1, anti_aliasing=False)\n",
    "        intersection = np.logical_and(gt_mask, resized_logit > 0).sum()\n",
    "        if intersection == 0:\n",
    "            continue\n",
    "        union = np.logical_or(gt_mask, resized_logit > 0).sum()\n",
    "        current_iou = intersection / union  \n",
    "        if current_iou > best_iou:\n",
    "            best_iou = current_iou\n",
    "    sam2_ious.append(best_iou)\n",
    "    print('gt label:', gt_label, 'iou:', current_iou, end='\\r')\n",
    "    if gt_label > 20:\n",
    "        break\n",
    "print('mean iou:', np.mean(sam2_ious))\n",
    "# mean iou: 0.61296344954377364343434343124\n",
    "# mean iou: 0.7757326059054758940298507436 @ 20\n"
   ]
  },
  {
   "cell_type": "markdown",
   "metadata": {},
   "source": [
    "### what happens if we reconstruct sam masks from the superpixels and run the evaluation again? it works slightly better!"
   ]
  },
  {
   "cell_type": "code",
   "execution_count": null,
   "metadata": {},
   "outputs": [
    {
     "name": "stdout",
     "output_type": "stream",
     "text": [
      "logit ind: 3071 iou: 0.97651006711409396\r"
     ]
    }
   ],
   "source": [
    "approx_logits = []\n",
    "\n",
    "for i in range(len(logits)):\n",
    "    logit_mask = logits[i] > 0\n",
    "\n",
    "    overlapping_superpixels = np.unique(superpixels[logit_mask])\n",
    "    overlapping_superpixels_scores = []\n",
    "    for overlapping_superpixel in overlapping_superpixels:\n",
    "        mask = (superpixels == overlapping_superpixel)\n",
    "        intersection = np.logical_and(mask, logit_mask)\n",
    "        inside = np.sum(intersection)\n",
    "        outside = np.sum(mask) - inside\n",
    "        if outside == 0:\n",
    "            overlapping_superpixels_scores.append(np.inf)\n",
    "        else:\n",
    "            overlapping_superpixels_scores.append(inside / outside)\n",
    "\n",
    "    # argsort scores\n",
    "    sorted_indices = reversed(np.argsort(overlapping_superpixels_scores, stable=True))\n",
    "    mask_so_far = np.zeros_like(logit_mask)\n",
    "    current_iou = 0\n",
    "    for next_best_ind in sorted_indices:\n",
    "        if overlapping_superpixels_scores[next_best_ind] < current_iou:\n",
    "            break\n",
    "        sp_label = overlapping_superpixels[next_best_ind]\n",
    "        sp_mask = (superpixels == sp_label)\n",
    "        mask_so_far = np.logical_or(mask_so_far, sp_mask)\n",
    "        intersection = np.logical_and(mask_so_far, logit_mask)\n",
    "        union = np.logical_or(mask_so_far, logit_mask)\n",
    "        current_iou = np.sum(intersection) / np.sum(union)\n",
    "\n",
    "    approx_logits.append(mask_so_far)\n",
    "    print('logit ind:', i, 'iou:', current_iou, end='\\r')\n",
    "approx_logits = np.array(approx_logits)\n"
   ]
  },
  {
   "cell_type": "code",
   "execution_count": null,
   "metadata": {},
   "outputs": [
    {
     "name": "stdout",
     "output_type": "stream",
     "text": [
      "mean iou: 0.6201104374798151025641025644\n"
     ]
    }
   ],
   "source": [
    "sam2_ious_reconstructed = []\n",
    "for gt_label in np.unique(gt):\n",
    "    gt_mask = (gt == gt_label)  # ground truth mask\n",
    "    best_iou = 0\n",
    "    for logit_channel in range(len(approx_logits)):\n",
    "        resized_logit = skimage.transform.resize(approx_logits[logit_channel], gt.shape, order=0, anti_aliasing=False)\n",
    "        intersection = np.logical_and(gt_mask, resized_logit > 0).sum()\n",
    "        if intersection == 0:\n",
    "            continue\n",
    "        union = np.logical_or(gt_mask, resized_logit > 0).sum()\n",
    "        current_iou = intersection / union  \n",
    "        if current_iou > best_iou:\n",
    "            best_iou = current_iou\n",
    "    sam2_ious_reconstructed.append(best_iou)\n",
    "    print('gt label:', gt_label, 'iou:', current_iou, end='\\r')\n",
    "print('mean iou:', np.mean(sam2_ious_reconstructed))\n",
    "# mean iou: 0.6201104374798151025641025644\n",
    "# mean iou: 0.786330471354893614189303152 @ 20"
   ]
  }
 ],
 "metadata": {
  "kernelspec": {
   "display_name": ".venv",
   "language": "python",
   "name": "python3"
  },
  "language_info": {
   "codemirror_mode": {
    "name": "ipython",
    "version": 3
   },
   "file_extension": ".py",
   "mimetype": "text/x-python",
   "name": "python",
   "nbconvert_exporter": "python",
   "pygments_lexer": "ipython3",
   "version": "3.13.1"
  }
 },
 "nbformat": 4,
 "nbformat_minor": 2
}
